{
 "cells": [
  {
   "cell_type": "markdown",
   "metadata": {},
   "source": [
    "# Setup Verification - IT Security Course\n",
    "\n",
    "Run this notebook to verify your environment is properly configured."
   ]
  },
  {
   "cell_type": "code",
   "execution_count": 1,
   "metadata": {},
   "outputs": [
    {
     "name": "stdout",
     "output_type": "stream",
     "text": [
      "Python version: 3.13.3 (main, Apr  8 2025, 13:54:08) [Clang 17.0.0 (clang-1700.0.13.3)]\n",
      "✅ Python version OK\n"
     ]
    }
   ],
   "source": [
    "# Check Python version\n",
    "import sys\n",
    "print(f\"Python version: {sys.version}\")\n",
    "\n",
    "if sys.version_info >= (3, 9):\n",
    "    print(\"✅ Python version OK\")\n",
    "else:\n",
    "    print(\"❌ Need Python 3.9 or higher\")"
   ]
  },
  {
   "cell_type": "code",
   "execution_count": 2,
   "metadata": {},
   "outputs": [
    {
     "name": "stdout",
     "output_type": "stream",
     "text": [
      "✅ PyCryptodome working!\n",
      "Test encryption: b'Hello World!!!!!' -> 853f010c4a6ee9a44f4ad23d0a2d2132\n"
     ]
    }
   ],
   "source": [
    "# Test PyCryptodome\n",
    "try:\n",
    "    from Crypto.Cipher import AES\n",
    "    from Crypto.Random import get_random_bytes\n",
    "    \n",
    "    # Quick AES test\n",
    "    key = get_random_bytes(16)\n",
    "    cipher = AES.new(key, AES.MODE_ECB)\n",
    "    plaintext = b'Hello World!!!!!'  # 16 bytes\n",
    "    ciphertext = cipher.encrypt(plaintext)\n",
    "    \n",
    "    print(f\"✅ PyCryptodome working!\")\n",
    "    print(f\"Test encryption: {plaintext} -> {ciphertext.hex()}\")\n",
    "    \n",
    "except ImportError as e:\n",
    "    print(f\"❌ PyCryptodome not installed: {e}\")\n",
    "    print(\"Install with: pip install pycryptodome\")"
   ]
  },
  {
   "cell_type": "code",
   "execution_count": 3,
   "metadata": {},
   "outputs": [
    {
     "name": "stdout",
     "output_type": "stream",
     "text": [
      "✅ Crypto utilities working!\n",
      "gcd(48, 18) = 6\n",
      "3^-1 mod 11 = 4\n"
     ]
    }
   ],
   "source": [
    "# Test access to implementations\n",
    "import sys\n",
    "import os\n",
    "sys.path.append('../implementations')\n",
    "\n",
    "try:\n",
    "    from utils.crypto_utils import gcd, mod_inverse\n",
    "    \n",
    "    # Test basic functions\n",
    "    assert gcd(48, 18) == 6\n",
    "    assert mod_inverse(3, 11) == 4\n",
    "    \n",
    "    print(\"✅ Crypto utilities working!\")\n",
    "    print(f\"gcd(48, 18) = {gcd(48, 18)}\")\n",
    "    print(f\"3^-1 mod 11 = {mod_inverse(3, 11)}\")\n",
    "    \n",
    "except Exception as e:\n",
    "    print(f\"⚠️  Utils not ready yet: {e}\")\n",
    "    print(\"This is normal if you haven't created the files yet!\")"
   ]
  },
  {
   "cell_type": "markdown",
   "metadata": {},
   "source": [
    "## All Set! 🎉\n",
    "\n",
    "If everything shows ✅, you're ready to start!\n",
    "\n",
    "**Next step**: Open `sheet1_exploration.ipynb` and begin with Exercise 1."
   ]
  }
 ],
 "metadata": {
  "kernelspec": {
   "display_name": ".venv",
   "language": "python",
   "name": "python3"
  },
  "language_info": {
   "codemirror_mode": {
    "name": "ipython",
    "version": 3
   },
   "file_extension": ".py",
   "mimetype": "text/x-python",
   "name": "python",
   "nbconvert_exporter": "python",
   "pygments_lexer": "ipython3",
   "version": "3.13.3"
  }
 },
 "nbformat": 4,
 "nbformat_minor": 4
}
