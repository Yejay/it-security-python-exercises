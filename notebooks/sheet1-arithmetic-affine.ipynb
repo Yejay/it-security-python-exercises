{
 "cells": [
  {
   "cell_type": "markdown",
   "metadata": {},
   "source": "# Sheet 1: Arithmetic & Affine Cipher - Exercises\n\n## 🎯 Learning Objectives\nBy the end of this notebook, you should be able to:\n- Calculate modular inverses using trial and Extended Euclidean Algorithm\n- Understand when modular inverses exist\n- Implement affine cipher encryption/decryption\n- Perform cryptanalysis on affine ciphers using frequency analysis\n\n## 📚 Background Reading\nBefore starting, review:\n- Modular arithmetic fundamentals\n- Extended Euclidean Algorithm\n- Affine cipher structure: `c ≡ (a·p + b) mod 26`\n\n## ✅ Progress Tracker\n- [ ] **Exercise 1**: Modular inverse calculations\n- [ ] **Exercise 2**: Trial method implementation  \n- [ ] **Exercise 3**: Extended Euclidean Algorithm\n- [ ] **Exercise 4**: Affine cipher implementation\n- [ ] **Exercise 5**: Cryptanalysis challenge\n\n---\n\n**💡 Tip**: Work through each exercise step by step. Test your code frequently and don't peek at solutions until you've attempted each problem!",
   "outputs": []
  },
  {
   "cell_type": "code",
   "execution_count": 2,
   "metadata": {},
   "outputs": [],
   "source": [
    "# Setup\n",
    "import sys\n",
    "import math\n",
    "import time\n",
    "sys.path.append('../implementations')\n",
    "\n",
    "# Helper function for clean output\n",
    "def test_result(condition, description):\n",
    "    status = \"✅\" if condition else \"❌\"\n",
    "    print(f\"{status} {description}\")\n",
    "\n",
    "def show_calculation(expression, result):\n",
    "    print(f\"{expression} = {result}\")"
   ]
  },
  {
   "cell_type": "markdown",
   "metadata": {},
   "source": "## Exercise 1: Understanding Modular Inverses\n\n**🎯 Goal**: Calculate modular inverses by hand to build intuition\n\n**📖 Theory**: The multiplicative inverse of `a` modulo `m` is a number `x` such that:\n```\n(a × x) ≡ 1 (mod m)\n```\nThis inverse exists **only when** `gcd(a, m) = 1`.\n\n### 🧮 Manual Calculations\n\n**TODO 1.1**: Calculate these modular inverses by hand (try small values):\n\n1. What is `5⁻¹ mod 11`? \n   - Try: Does `5 × 1 ≡ 1 (mod 11)`? No, `5 × 1 = 5`\n   - Try: Does `5 × 2 ≡ 1 (mod 11)`? No, `5 × 2 = 10`\n   - Continue until you find the answer...\n   \n2. What is `5⁻¹ mod 12`?\n   - First check: Does `gcd(5, 12) = 1`? \n   - If not, no inverse exists!\n   \n3. What is `5⁻¹ mod 13`?\n\n**✍️ Write your answers here:**\n```\n5⁻¹ mod 11 = ___\n5⁻¹ mod 12 = ___ (or \"no inverse\")  \n5⁻¹ mod 13 = ___\n```",
   "outputs": []
  },
  {
   "cell_type": "code",
   "metadata": {},
   "outputs": [],
   "source": "## Exercise 2: Trial Method Implementation\n\n**🎯 Goal**: Implement the brute-force approach to finding modular inverses\n\n### TODO 2.1: Complete the trial method function\n\nimport math\n\ndef find_inverse_trial(a, m):\n    \"\"\"\n    Find multiplicative inverse of 'a' mod 'm' using trial method.\n    \n    Algorithm:\n    1. Check if gcd(a, m) == 1 (return None if not)\n    2. Try all values x from 1 to m-1\n    3. Return x when (a * x) % m == 1\n    \n    Args:\n        a (int): Number to find inverse for\n        m (int): Modulus\n    \n    Returns:\n        int: Multiplicative inverse, or None if doesn't exist\n    \"\"\"\n    # TODO: Step 1 - Check if inverse exists\n    if math.gcd(a, m) != 1:\n        return None\n    \n    # TODO: Step 2 - Try all possible values\n    for x in range(1, m):\n        # TODO: Check if this x is the inverse\n        # Hint: Check if (a * x) % m == 1\n        pass  # Replace this line with your code\n    \n    return None  # This shouldn't be reached if inverse exists\n\n# TODO 2.2: Test your function\ndef test_trial_method():\n    \"\"\"Test cases to verify your implementation\"\"\"\n    test_cases = [\n        (5, 11, \"Should find an inverse\"),\n        (5, 12, \"Should return None - no inverse exists\"),\n        (5, 13, \"Should find an inverse\"),\n        (7, 26, \"For affine cipher - should find inverse\")\n    ]\n    \n    print(\"Testing trial method:\")\n    print(\"-\" * 40)\n    \n    for a, m, description in test_cases:\n        result = find_inverse_trial(a, m)\n        print(f\"{a}⁻¹ mod {m} = {result}\")\n        print(f\"  {description}\")\n        \n        # Verify the result if inverse exists\n        if result is not None:\n            verification = (a * result) % m\n            print(f\"  Verification: ({a} × {result}) mod {m} = {verification}\")\n            assert verification == 1, \"Incorrect inverse!\"\n        print()\n\n# TODO 2.3: Run your tests\n# Uncomment the line below after implementing the function\n# test_trial_method()"
  },
  {
   "cell_type": "markdown",
   "metadata": {},
   "outputs": [],
   "source": "## Exercise 3: Extended Euclidean Algorithm\n\n**🎯 Goal**: Implement the efficient Extended Euclidean Algorithm\n\n**📖 Theory**: The Extended Euclidean Algorithm finds integers `x` and `y` such that:\n```\nax + by = gcd(a, b)\n```\nWhen `gcd(a, m) = 1`, the value `x` (adjusted to be positive) is the multiplicative inverse of `a mod m`.\n\n### TODO 3.1: Implement Extended Euclidean Algorithm"
  },
  {
   "cell_type": "code",
   "metadata": {},
   "source": "def extended_gcd(a, b):\n    \"\"\"\n    Extended Euclidean Algorithm - finds x, y such that ax + by = gcd(a, b)\n    \n    Algorithm outline:\n    1. Base case: if b == 0, return (a, 1, 0)\n    2. Recursive case: \n       - Call extended_gcd(b, a % b) to get (gcd, x1, y1)\n       - Calculate x = y1, y = x1 - (a // b) * y1\n       - Return (gcd, x, y)\n    \n    Returns:\n        tuple: (gcd, x, y) where ax + by = gcd\n    \"\"\"\n    # TODO: Implement base case\n    if b == 0:\n        # When b=0, gcd(a,0) = a, and a*1 + 0*0 = a\n        return (a, 1, 0)\n    \n    # TODO: Recursive case\n    # Step 1: Get result from recursive call\n    gcd, x1, y1 = extended_gcd(b, a % b)\n    \n    # Step 2: Calculate x and y for current level\n    # Hint: x = y1, y = x1 - (a // b) * y1\n    x = # TODO: Fill this in\n    y = # TODO: Fill this in\n    \n    return (gcd, x, y)\n\ndef find_inverse_extended(a, m):\n    \"\"\"\n    Find multiplicative inverse using Extended Euclidean Algorithm.\n    \n    Args:\n        a (int): Number to find inverse for\n        m (int): Modulus\n    \n    Returns:\n        int: Multiplicative inverse, or None if doesn't exist\n    \"\"\"\n    # TODO: Use extended_gcd to find gcd and coefficients\n    gcd, x, y = extended_gcd(a, m)\n    \n    # TODO: Check if inverse exists\n    if gcd != 1:\n        return None\n    \n    # TODO: Make sure x is positive (adjust if negative)\n    # Hint: if x < 0, add m to make it positive\n    return # TODO: Return the positive inverse\n\n# TODO 3.2: Test and compare both methods\ndef compare_methods():\n    \"\"\"Compare trial method vs Extended Euclidean Algorithm\"\"\"\n    import time\n    \n    test_cases = [(5, 11), (7, 26), (13, 37), (17, 101)]\n    \n    print(\"Comparing Trial vs Extended GCD methods:\")\n    print(\"-\" * 50)\n    \n    for a, m in test_cases:\n        # Time trial method\n        start = time.time()\n        result_trial = find_inverse_trial(a, m)\n        time_trial = time.time() - start\n        \n        # Time extended method  \n        start = time.time()\n        result_extended = find_inverse_extended(a, m)\n        time_extended = time.time() - start\n        \n        print(f\"{a}⁻¹ mod {m}:\")\n        print(f\"  Trial method: {result_trial} (time: {time_trial:.6f}s)\")\n        print(f\"  Extended GCD: {result_extended} (time: {time_extended:.6f}s)\")\n        print(f\"  Results match: {result_trial == result_extended}\")\n        print()\n\n# TODO 3.3: Uncomment to test after implementation\n# compare_methods()",
   "outputs": []
  },
  {
   "cell_type": "markdown",
   "metadata": {},
   "outputs": [],
   "source": "## Exercise 4: Affine Cipher Implementation\n\n**🎯 Goal**: Implement the affine cipher and understand its structure\n\n**📖 Theory**: The affine cipher uses the formula:\n- **Encryption**: `c ≡ (a·p + b) mod 26`\n- **Decryption**: `p ≡ a⁻¹·(c - b) mod 26`\n\nwhere `a` and `b` are the key parameters, and `gcd(a, 26) = 1` for decryption to work.\n\n### TODO 4.1: Implement helper functions"
  },
  {
   "cell_type": "code",
   "metadata": {},
   "outputs": [],
   "source": "def char_to_num(c):\n    \"\"\"\n    Convert character to number (A=0, B=1, ..., Z=25)\n    \n    Args:\n        c (str): Single uppercase letter\n    \n    Returns:\n        int: Number 0-25\n    \"\"\"\n    # TODO: Convert character to number\n    # Hint: Use ord(c) - ord('A')\n    return # TODO: Fill this in\n\ndef num_to_char(n):\n    \"\"\"\n    Convert number to character (0=A, 1=B, ..., 25=Z)\n    \n    Args:\n        n (int): Number 0-25\n    \n    Returns:\n        str: Corresponding letter\n    \"\"\"\n    # TODO: Convert number to character\n    # Hint: Use chr(n + ord('A'))\n    return # TODO: Fill this in\n\ndef affine_encrypt(plaintext, a, b):\n    \"\"\"\n    Encrypt plaintext using affine cipher: c ≡ (a·p + b) mod 26\n    \n    Args:\n        plaintext (str): Message to encrypt (uppercase letters only)\n        a (int): Multiplicative key (must be coprime to 26)\n        b (int): Additive key\n    \n    Returns:\n        str: Encrypted message\n    \"\"\"\n    # TODO: Check that 'a' is valid\n    if math.gcd(a, 26) != 1:\n        raise ValueError(f\"'a' must be coprime to 26, got a={a}\")\n    \n    ciphertext = \"\"\n    \n    # TODO: Encrypt each character\n    for char in plaintext:\n        if char.isalpha():\n            # TODO: Convert char to number, apply formula, convert back\n            p = char_to_num(char.upper())\n            c = # TODO: Apply affine encryption formula\n            ciphertext += num_to_char(c)\n        else:\n            # Keep non-alphabetic characters as-is\n            ciphertext += char\n    \n    return ciphertext\n\ndef affine_decrypt(ciphertext, a, b):\n    \"\"\"\n    Decrypt ciphertext using affine cipher: p ≡ a⁻¹·(c - b) mod 26\n    \n    Args:\n        ciphertext (str): Message to decrypt\n        a (int): Multiplicative key\n        b (int): Additive key\n    \n    Returns:\n        str: Decrypted message\n    \"\"\"\n    # TODO: Find multiplicative inverse of 'a' mod 26\n    a_inv = find_inverse_extended(a, 26)\n    if a_inv is None:\n        raise ValueError(f\"No inverse for a={a} mod 26\")\n    \n    plaintext = \"\"\n    \n    # TODO: Decrypt each character\n    for char in ciphertext:\n        if char.isalpha():\n            # TODO: Convert char to number, apply decryption formula, convert back\n            c = char_to_num(char.upper())\n            p = # TODO: Apply affine decryption formula\n            plaintext += num_to_char(p)\n        else:\n            plaintext += char\n    \n    return plaintext\n\n# TODO 4.2: Test your implementation\ndef test_affine_cipher():\n    \"\"\"Test affine cipher with known values\"\"\"\n    # Test case: a=5, b=3\n    a, b = 5, 3\n    test_message = \"HELLO\"\n    \n    print(f\"Testing Affine Cipher with a={a}, b={b}\")\n    print(f\"Original message: {test_message}\")\n    \n    # TODO: Encrypt the message\n    encrypted = # TODO: Call affine_encrypt\n    print(f\"Encrypted: {encrypted}\")\n    \n    # TODO: Decrypt the message\n    decrypted = # TODO: Call affine_decrypt\n    print(f\"Decrypted: {decrypted}\")\n    \n    # Verify\n    print(f\"Successful round-trip: {decrypted == test_message}\")\n\n# TODO 4.3: Uncomment to test\n# test_affine_cipher()"
  },
  {
   "cell_type": "code",
   "source": "def frequency_analysis(ciphertext):\n    \"\"\"\n    Analyze letter frequencies in ciphertext\n    \n    Args:\n        ciphertext (str): The encrypted message\n    \n    Returns:\n        list: Tuples of (letter, count) sorted by frequency (highest first)\n    \"\"\"\n    # TODO: Count frequency of each letter\n    frequency = {}\n    \n    for char in ciphertext:\n        if char.isalpha():\n            char = char.upper()\n            # TODO: Update frequency count\n            # Hint: frequency[char] = frequency.get(char, 0) + 1\n    \n    # TODO: Sort by frequency (highest first)\n    # Hint: Use sorted() with key parameter\n    sorted_freq = # TODO: Fill this in\n    \n    return sorted_freq\n\ndef solve_affine_cipher(char1, char2, target1='E', target2='T'):\n    \"\"\"\n    Solve for affine cipher parameters given two character mappings\n    \n    This solves the system:\n    char1_num ≡ (a · target1_num + b) mod 26\n    char2_num ≡ (a · target2_num + b) mod 26\n    \n    Args:\n        char1, char2 (str): Most frequent characters in ciphertext\n        target1, target2 (str): Assumed plaintext characters (default E, T)\n    \n    Returns:\n        tuple: (a, b) key parameters, or None if no solution\n    \"\"\"\n    # Convert characters to numbers\n    c1, c2 = char_to_num(char1), char_to_num(char2)\n    p1, p2 = char_to_num(target1), char_to_num(target2)\n    \n    # Set up system of equations:\n    # c1 ≡ (a · p1 + b) mod 26\n    # c2 ≡ (a · p2 + b) mod 26\n    \n    # Subtract equations to eliminate b:\n    # (c1 - c2) ≡ a · (p1 - p2) mod 26\n    \n    # TODO: Calculate differences\n    delta_c = (c1 - c2) % 26\n    delta_p = (p1 - p2) % 26\n    \n    # TODO: Solve for 'a'\n    # We need: a ≡ delta_c · (delta_p)^(-1) mod 26\n    delta_p_inv = find_inverse_extended(delta_p, 26)\n    if delta_p_inv is None:\n        return None\n    \n    a = (delta_c * delta_p_inv) % 26\n    \n    # TODO: Solve for 'b' using first equation\n    # b ≡ (c1 - a · p1) mod 26\n    b = (c1 - a * p1) % 26\n    \n    return (a, b)\n\n# TODO 5.2: Analyze the ciphertext\nciphertext = \"FALSZZTYSYJZYJKYWJRZTYJZTYYNARYJKYSWARZTYEGYYJ\"\n\nprint(\"🔍 Frequency Analysis:\")\nprint(\"-\" * 30)\n\nfrequencies = frequency_analysis(ciphertext)\n\n# TODO: Print the frequency results\n# Show the most common letters\nprint(\"Letter frequencies (most common first):\")\nfor letter, count in frequencies[:5]:  # Show top 5\n    print(f\"{letter}: {count}\")\n\nprint(f\"\\nMost frequent letters: {frequencies[0][0]} and {frequencies[1][0]}\")\n\n# TODO 5.3: Attempt to solve\nprint(\"\\n🔑 Attempting to break the cipher:\")\nprint(\"-\" * 35)\n\n# Try assuming most frequent letters are E and T\nmost_freq_1 = frequencies[0][0]\nmost_freq_2 = frequencies[1][0]\n\nresult = solve_affine_cipher(most_freq_1, most_freq_2, 'E', 'T')\n\nif result:\n    a, b = result\n    print(f\"Found potential key: a={a}, b={b}\")\n    \n    # TODO: Test the key by decrypting\n    try:\n        decrypted = affine_decrypt(ciphertext, a, b)\n        print(f\"Decrypted message: {decrypted}\")\n        print(\"Does this look like English? If not, try different assumptions!\")\n    except:\n        print(\"Key doesn't work - try different letter assumptions\")\nelse:\n    print(\"Could not find solution with E,T assumption\")\n    print(\"💡 Try different common letter pairs!\")\n\n# TODO 5.4: If first attempt fails, try other combinations\n# Uncomment and modify as needed:\n# print(\"\\n🔄 Trying alternative assumptions...\")\n# result2 = solve_affine_cipher(most_freq_1, most_freq_2, 'T', 'E')  # Swap order\n# result3 = solve_affine_cipher(most_freq_1, frequencies[2][0], 'E', 'A')  # Try E,A",
   "metadata": {},
   "outputs": []
  },
  {
   "cell_type": "markdown",
   "metadata": {},
   "source": "## Exercise 5: Cryptanalysis Challenge 🕵️\n\n**🎯 Goal**: Break an affine cipher using frequency analysis\n\n**📖 Scenario**: You intercepted this ciphertext and know it's encrypted with an affine cipher:\n```\n\"FALSZZTYSYJZYJKYWJRZTYJZTYYNARYJKYSWARZTYEGYYJ\"\n```\n\n**🔍 Cryptanalysis Strategy**: \n1. Use frequency analysis - 'E' and 'T' are most common in English\n2. Find the most frequent letters in the ciphertext\n3. Set up equations assuming these map to 'E' and 'T'\n4. Solve for the key parameters `a` and `b`\n\n### TODO 5.1: Frequency analysis",
   "outputs": []
  },
  {
   "cell_type": "markdown",
   "source": "## 🎉 Congratulations!\n\nIf you've completed all exercises, you now understand:\n\n✅ **Modular Arithmetic**\n- When multiplicative inverses exist\n- Trial method vs Extended Euclidean Algorithm\n- Performance differences between approaches\n\n✅ **Affine Cipher**\n- Encryption and decryption formulas\n- Key requirements (`gcd(a, 26) = 1`)\n- Implementation details\n\n✅ **Cryptanalysis**\n- Frequency analysis techniques\n- Setting up and solving equation systems\n- Real-world cipher breaking\n\n### 🚀 Next Steps\n1. Move your working functions to `implementations/utils/crypto_utils.py`\n2. Add comprehensive test cases\n3. Try implementing other classical ciphers\n4. Explore more advanced cryptanalysis techniques\n\n### 📝 Reflection Questions\n- Why must `gcd(a, 26) = 1` for the affine cipher to work?\n- When might the Extended Euclidean Algorithm be preferred over trial method?\n- What are the limitations of frequency analysis for cryptanalysis?\n\n**Well done! 🎯**",
   "metadata": {}
  }
 ],
 "metadata": {
  "kernelspec": {
   "display_name": "Python 3",
   "language": "python",
   "name": "python3"
  },
  "language_info": {
   "codemirror_mode": {
    "name": "ipython",
    "version": 3
   },
   "file_extension": ".py",
   "mimetype": "text/x-python",
   "name": "python",
   "nbconvert_exporter": "python",
   "pygments_lexer": "ipython3",
   "version": "3.11.12"
  }
 },
 "nbformat": 4,
 "nbformat_minor": 4
}